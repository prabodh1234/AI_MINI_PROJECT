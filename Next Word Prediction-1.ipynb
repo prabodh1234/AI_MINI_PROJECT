{
 "cells": [
  {
   "cell_type": "markdown",
   "metadata": {},
   "source": [
    "# Next Word Prediction:"
   ]
  },
  {
   "cell_type": "markdown",
   "metadata": {},
   "source": [
    "### Importing The Required Libraries:"
   ]
  },
  {
   "cell_type": "code",
   "execution_count": 1,
   "metadata": {},
   "outputs": [],
   "source": [
    "import tensorflow as tf\n",
    "from tensorflow.keras.preprocessing.text import Tokenizer\n",
    "from tensorflow.keras.layers import Embedding, LSTM, Dense\n",
    "from tensorflow.keras.models import Sequential\n",
    "from tensorflow.keras.utils import to_categorical\n",
    "from tensorflow.keras.optimizers import Adam\n",
    "import pickle\n",
    "import numpy as np\n",
    "import os"
   ]
  },
  {
   "cell_type": "code",
   "execution_count": 2,
   "metadata": {},
   "outputs": [
    {
     "name": "stdout",
     "output_type": "stream",
     "text": [
      "The First Line:  ﻿One morning, when Gregor Samsa woke from troubled dreams, he found\n",
      "\n",
      "The Last Line:  first to get up and stretch out her young body.\n"
     ]
    }
   ],
   "source": [
    "\"\"\"\n",
    "    Dataset: http://www.gutenberg.org/cache/epub/5200/pg5200.txt\n",
    "    Remove all the unnecessary data and label it as Metamorphosis-clean.\n",
    "    The starting and ending lines should be as follows.\n",
    "\n",
    "\"\"\"\n",
    "\n",
    "\n",
    "file = open(\"metamorphosis_clean.txt\", \"r\", encoding = \"utf8\")\n",
    "lines = []\n",
    "\n",
    "for i in file:\n",
    "    lines.append(i)\n",
    "    \n",
    "print(\"The First Line: \", lines[0])\n",
    "print(\"The Last Line: \", lines[-1])"
   ]
  },
  {
   "cell_type": "markdown",
   "metadata": {},
   "source": [
    "### Cleaning the data:"
   ]
  },
  {
   "cell_type": "code",
   "execution_count": 3,
   "metadata": {},
   "outputs": [
    {
     "data": {
      "text/plain": [
       "'One morning, when Gregor Samsa woke from troubled dreams, he found himself transformed in his bed into a horrible vermin.  He lay on his armour-like back, and if he lifted his head a little he could see his brown belly, slightly domed and divided by arches into stiff sections.  The bedding was hardly able to cover it and seemed ready to slide off any moment.'"
      ]
     },
     "execution_count": 3,
     "metadata": {},
     "output_type": "execute_result"
    }
   ],
   "source": [
    "data = \"\"\n",
    "\n",
    "for i in lines:\n",
    "    data = ' '. join(lines)\n",
    "    \n",
    "data = data.replace('\\n', '').replace('\\r', '').replace('\\ufeff', '')\n",
    "data[:360]"
   ]
  },
  {
   "cell_type": "code",
   "execution_count": 4,
   "metadata": {},
   "outputs": [
    {
     "data": {
      "text/plain": [
       "'One morning  when Gregor Samsa woke from troubled dreams  he found himself transformed in his bed into a horrible vermin   He lay on his armour like back  and if he lifted his head a little he could see his brown belly  slightly domed and divided by arches into stiff sections   The bedding was hardly able to cover it and seemed ready to slide off any moment   His many legs  pitifully thin compared with the size of the rest of him  waved about helplessly as he looked    What s happened to me   he'"
      ]
     },
     "execution_count": 4,
     "metadata": {},
     "output_type": "execute_result"
    }
   ],
   "source": [
    "import string\n",
    "\n",
    "translator = str.maketrans(string.punctuation, ' '*len(string.punctuation)) #map punctuation to space\n",
    "new_data = data.translate(translator)\n",
    "\n",
    "new_data[:500]"
   ]
  },
  {
   "cell_type": "code",
   "execution_count": 5,
   "metadata": {},
   "outputs": [
    {
     "data": {
      "text/plain": [
       "'One morning, when Gregor Samsa woke from troubled dreams, he found himself transformed in his bed into a horrible vermin. He lay on armour-like back, and if lifted head little could see brown belly, slightly domed divided by arches stiff sections. The bedding was hardly able to cover it seemed ready slide off any moment. His many legs, pitifully thin compared with the size of rest him, waved about helplessly as looked. \"What\\'s happened me?\" thought. It wasn\\'t dream. room, proper human room altho'"
      ]
     },
     "execution_count": 5,
     "metadata": {},
     "output_type": "execute_result"
    }
   ],
   "source": [
    "z = []\n",
    "\n",
    "for i in data.split():\n",
    "    if i not in z:\n",
    "        z.append(i)\n",
    "        \n",
    "data = ' '.join(z)\n",
    "data[:500]"
   ]
  },
  {
   "cell_type": "markdown",
   "metadata": {},
   "source": [
    "### Tokenization:"
   ]
  },
  {
   "cell_type": "code",
   "execution_count": 6,
   "metadata": {},
   "outputs": [
    {
     "data": {
      "text/plain": [
       "[17, 53, 293, 2, 18, 729, 135, 730, 294, 8]"
      ]
     },
     "execution_count": 6,
     "metadata": {},
     "output_type": "execute_result"
    }
   ],
   "source": [
    "tokenizer = Tokenizer()\n",
    "tokenizer.fit_on_texts([data])\n",
    "\n",
    "# saving the tokenizer for predict function.\n",
    "pickle.dump(tokenizer, open('tokenizer1.pkl', 'wb'))\n",
    "\n",
    "sequence_data = tokenizer.texts_to_sequences([data])[0]\n",
    "sequence_data[:10]"
   ]
  },
  {
   "cell_type": "code",
   "execution_count": 7,
   "metadata": {},
   "outputs": [
    {
     "name": "stdout",
     "output_type": "stream",
     "text": [
      "2617\n"
     ]
    }
   ],
   "source": [
    "vocab_size = len(tokenizer.word_index) + 1\n",
    "print(vocab_size)"
   ]
  },
  {
   "cell_type": "code",
   "execution_count": 8,
   "metadata": {},
   "outputs": [
    {
     "name": "stdout",
     "output_type": "stream",
     "text": [
      "The Length of sequences are:  3889\n"
     ]
    },
    {
     "data": {
      "text/plain": [
       "array([[ 17,  53],\n",
       "       [ 53, 293],\n",
       "       [293,   2],\n",
       "       [  2,  18],\n",
       "       [ 18, 729],\n",
       "       [729, 135],\n",
       "       [135, 730],\n",
       "       [730, 294],\n",
       "       [294,   8],\n",
       "       [  8, 731]])"
      ]
     },
     "execution_count": 8,
     "metadata": {},
     "output_type": "execute_result"
    }
   ],
   "source": [
    "sequences = []\n",
    "\n",
    "for i in range(1, len(sequence_data)):\n",
    "    words = sequence_data[i-1:i+1]\n",
    "    sequences.append(words)\n",
    "    \n",
    "print(\"The Length of sequences are: \", len(sequences))\n",
    "sequences = np.array(sequences)\n",
    "sequences[:10]"
   ]
  },
  {
   "cell_type": "code",
   "execution_count": 9,
   "metadata": {},
   "outputs": [],
   "source": [
    "X = []\n",
    "y = []\n",
    "\n",
    "for i in sequences:\n",
    "    X.append(i[0])\n",
    "    y.append(i[1])\n",
    "    \n",
    "X = np.array(X)\n",
    "y = np.array(y)"
   ]
  },
  {
   "cell_type": "code",
   "execution_count": 10,
   "metadata": {},
   "outputs": [
    {
     "name": "stdout",
     "output_type": "stream",
     "text": [
      "The Data is:  [ 17  53 293   2  18]\n",
      "The responses are:  [ 53 293   2  18 729]\n"
     ]
    }
   ],
   "source": [
    "print(\"The Data is: \", X[:5])\n",
    "print(\"The responses are: \", y[:5])"
   ]
  },
  {
   "cell_type": "code",
   "execution_count": 11,
   "metadata": {},
   "outputs": [
    {
     "data": {
      "text/plain": [
       "array([[0., 0., 0., ..., 0., 0., 0.],\n",
       "       [0., 0., 0., ..., 0., 0., 0.],\n",
       "       [0., 0., 1., ..., 0., 0., 0.],\n",
       "       [0., 0., 0., ..., 0., 0., 0.],\n",
       "       [0., 0., 0., ..., 0., 0., 0.]], dtype=float32)"
      ]
     },
     "execution_count": 11,
     "metadata": {},
     "output_type": "execute_result"
    }
   ],
   "source": [
    "y = to_categorical(y, num_classes=vocab_size)\n",
    "y[:5]"
   ]
  },
  {
   "cell_type": "markdown",
   "metadata": {},
   "source": [
    "### Creating the Model:"
   ]
  },
  {
   "cell_type": "code",
   "execution_count": 12,
   "metadata": {},
   "outputs": [],
   "source": [
    "model = Sequential()\n",
    "model.add(Embedding(vocab_size, 10, input_length=1))\n",
    "model.add(LSTM(1000, return_sequences=True))\n",
    "model.add(LSTM(1000))\n",
    "model.add(Dense(1000, activation=\"relu\"))\n",
    "model.add(Dense(vocab_size, activation=\"softmax\"))"
   ]
  },
  {
   "cell_type": "code",
   "execution_count": 13,
   "metadata": {},
   "outputs": [
    {
     "name": "stdout",
     "output_type": "stream",
     "text": [
      "Model: \"sequential\"\n",
      "_________________________________________________________________\n",
      " Layer (type)                Output Shape              Param #   \n",
      "=================================================================\n",
      " embedding (Embedding)       (None, 1, 10)             26170     \n",
      "                                                                 \n",
      " lstm (LSTM)                 (None, 1, 1000)           4044000   \n",
      "                                                                 \n",
      " lstm_1 (LSTM)               (None, 1000)              8004000   \n",
      "                                                                 \n",
      " dense (Dense)               (None, 1000)              1001000   \n",
      "                                                                 \n",
      " dense_1 (Dense)             (None, 2617)              2619617   \n",
      "                                                                 \n",
      "=================================================================\n",
      "Total params: 15,694,787\n",
      "Trainable params: 15,694,787\n",
      "Non-trainable params: 0\n",
      "_________________________________________________________________\n"
     ]
    }
   ],
   "source": [
    "model.summary()"
   ]
  },
  {
   "cell_type": "markdown",
   "metadata": {},
   "source": [
    "### Plot The Model:"
   ]
  },
  {
   "cell_type": "code",
   "execution_count": 14,
   "metadata": {},
   "outputs": [
    {
     "name": "stdout",
     "output_type": "stream",
     "text": [
      "You must install pydot (`pip install pydot`) and install graphviz (see instructions at https://graphviz.gitlab.io/download/) for plot_model/model_to_dot to work.\n"
     ]
    }
   ],
   "source": [
    "from tensorflow import keras\n",
    "from keras.utils.vis_utils import plot_model\n",
    "\n",
    "keras.utils.plot_model(model, to_file='model.png', show_layer_names=True)"
   ]
  },
  {
   "cell_type": "markdown",
   "metadata": {},
   "source": [
    "### Callbacks:"
   ]
  },
  {
   "cell_type": "code",
   "execution_count": 15,
   "metadata": {},
   "outputs": [],
   "source": [
    "from tensorflow.keras.callbacks import ModelCheckpoint\n",
    "from tensorflow.keras.callbacks import ReduceLROnPlateau\n",
    "from tensorflow.keras.callbacks import TensorBoard\n",
    "\n",
    "checkpoint = ModelCheckpoint(\"nextword1.h5\", monitor='loss', verbose=1,\n",
    "    save_best_only=True, mode='auto')\n",
    "\n",
    "reduce = ReduceLROnPlateau(monitor='loss', factor=0.2, patience=3, min_lr=0.0001, verbose = 1)\n",
    "\n",
    "logdir='logsnextword1'\n",
    "tensorboard_Visualization = TensorBoard(log_dir=logdir)"
   ]
  },
  {
   "cell_type": "markdown",
   "metadata": {},
   "source": [
    "### Compile The Model:"
   ]
  },
  {
   "cell_type": "code",
   "execution_count": 16,
   "metadata": {},
   "outputs": [
    {
     "name": "stderr",
     "output_type": "stream",
     "text": [
      "C:\\Users\\praso\\anaconda3\\envs\\all\\lib\\site-packages\\keras\\optimizer_v2\\adam.py:105: UserWarning: The `lr` argument is deprecated, use `learning_rate` instead.\n",
      "  super(Adam, self).__init__(name, **kwargs)\n"
     ]
    }
   ],
   "source": [
    "model.compile(loss=\"categorical_crossentropy\", optimizer=Adam(lr=0.001))"
   ]
  },
  {
   "cell_type": "markdown",
   "metadata": {},
   "source": [
    "### Fit The Model:"
   ]
  },
  {
   "cell_type": "code",
   "execution_count": 17,
   "metadata": {},
   "outputs": [
    {
     "name": "stdout",
     "output_type": "stream",
     "text": [
      "Epoch 1/150\n",
      "61/61 [==============================] - ETA: 0s - loss: 7.8751\n",
      "Epoch 1: loss improved from inf to 7.87515, saving model to nextword1.h5\n",
      "61/61 [==============================] - 12s 66ms/step - loss: 7.8751 - lr: 0.0010\n",
      "Epoch 2/150\n",
      "61/61 [==============================] - ETA: 0s - loss: 7.8632\n",
      "Epoch 2: loss improved from 7.87515 to 7.86319, saving model to nextword1.h5\n",
      "61/61 [==============================] - 4s 65ms/step - loss: 7.8632 - lr: 0.0010\n",
      "Epoch 3/150\n",
      "60/61 [============================>.] - ETA: 0s - loss: 7.8278\n",
      "Epoch 3: loss improved from 7.86319 to 7.82783, saving model to nextword1.h5\n",
      "61/61 [==============================] - 4s 66ms/step - loss: 7.8278 - lr: 0.0010\n",
      "Epoch 4/150\n",
      "61/61 [==============================] - ETA: 0s - loss: 7.6444\n",
      "Epoch 4: loss improved from 7.82783 to 7.64436, saving model to nextword1.h5\n",
      "61/61 [==============================] - 4s 66ms/step - loss: 7.6444 - lr: 0.0010\n",
      "Epoch 5/150\n",
      "60/61 [============================>.] - ETA: 0s - loss: 7.4163\n",
      "Epoch 5: loss improved from 7.64436 to 7.41803, saving model to nextword1.h5\n",
      "61/61 [==============================] - 4s 64ms/step - loss: 7.4180 - lr: 0.0010\n",
      "Epoch 6/150\n",
      "61/61 [==============================] - ETA: 0s - loss: 7.2454\n",
      "Epoch 6: loss improved from 7.41803 to 7.24539, saving model to nextword1.h5\n",
      "61/61 [==============================] - 4s 65ms/step - loss: 7.2454 - lr: 0.0010\n",
      "Epoch 7/150\n",
      "61/61 [==============================] - ETA: 0s - loss: 7.1405\n",
      "Epoch 7: loss improved from 7.24539 to 7.14053, saving model to nextword1.h5\n",
      "61/61 [==============================] - 4s 66ms/step - loss: 7.1405 - lr: 0.0010\n",
      "Epoch 8/150\n",
      "61/61 [==============================] - ETA: 0s - loss: 7.0497\n",
      "Epoch 8: loss improved from 7.14053 to 7.04973, saving model to nextword1.h5\n",
      "61/61 [==============================] - 4s 68ms/step - loss: 7.0497 - lr: 0.0010\n",
      "Epoch 9/150\n",
      "61/61 [==============================] - ETA: 0s - loss: 6.9664\n",
      "Epoch 9: loss improved from 7.04973 to 6.96641, saving model to nextword1.h5\n",
      "61/61 [==============================] - 4s 67ms/step - loss: 6.9664 - lr: 0.0010\n",
      "Epoch 10/150\n",
      "61/61 [==============================] - ETA: 0s - loss: 6.8813\n",
      "Epoch 10: loss improved from 6.96641 to 6.88130, saving model to nextword1.h5\n",
      "61/61 [==============================] - 4s 70ms/step - loss: 6.8813 - lr: 0.0010\n",
      "Epoch 11/150\n",
      "61/61 [==============================] - ETA: 0s - loss: 6.7372\n",
      "Epoch 11: loss improved from 6.88130 to 6.73722, saving model to nextword1.h5\n",
      "61/61 [==============================] - 5s 79ms/step - loss: 6.7372 - lr: 0.0010\n",
      "Epoch 12/150\n",
      "61/61 [==============================] - ETA: 0s - loss: 6.5424\n",
      "Epoch 12: loss improved from 6.73722 to 6.54241, saving model to nextword1.h5\n",
      "61/61 [==============================] - 4s 71ms/step - loss: 6.5424 - lr: 0.0010\n",
      "Epoch 13/150\n",
      "61/61 [==============================] - ETA: 0s - loss: 6.3141\n",
      "Epoch 13: loss improved from 6.54241 to 6.31412, saving model to nextword1.h5\n",
      "61/61 [==============================] - 4s 69ms/step - loss: 6.3141 - lr: 0.0010\n",
      "Epoch 14/150\n",
      "61/61 [==============================] - ETA: 0s - loss: 6.0635\n",
      "Epoch 14: loss improved from 6.31412 to 6.06351, saving model to nextword1.h5\n",
      "61/61 [==============================] - 4s 64ms/step - loss: 6.0635 - lr: 0.0010\n",
      "Epoch 15/150\n",
      "61/61 [==============================] - ETA: 0s - loss: 5.8298\n",
      "Epoch 15: loss improved from 6.06351 to 5.82976, saving model to nextword1.h5\n",
      "61/61 [==============================] - 4s 63ms/step - loss: 5.8298 - lr: 0.0010\n",
      "Epoch 16/150\n",
      "61/61 [==============================] - ETA: 0s - loss: 5.6107\n",
      "Epoch 16: loss improved from 5.82976 to 5.61065, saving model to nextword1.h5\n",
      "61/61 [==============================] - 4s 66ms/step - loss: 5.6107 - lr: 0.0010\n",
      "Epoch 17/150\n",
      "61/61 [==============================] - ETA: 0s - loss: 5.4195\n",
      "Epoch 17: loss improved from 5.61065 to 5.41947, saving model to nextword1.h5\n",
      "61/61 [==============================] - 4s 67ms/step - loss: 5.4195 - lr: 0.0010\n",
      "Epoch 18/150\n",
      "61/61 [==============================] - ETA: 0s - loss: 5.2269\n",
      "Epoch 18: loss improved from 5.41947 to 5.22694, saving model to nextword1.h5\n",
      "61/61 [==============================] - 4s 65ms/step - loss: 5.2269 - lr: 0.0010\n",
      "Epoch 19/150\n",
      "61/61 [==============================] - ETA: 0s - loss: 5.0351\n",
      "Epoch 19: loss improved from 5.22694 to 5.03509, saving model to nextword1.h5\n",
      "61/61 [==============================] - 4s 65ms/step - loss: 5.0351 - lr: 0.0010\n",
      "Epoch 20/150\n",
      "61/61 [==============================] - ETA: 0s - loss: 4.8415\n",
      "Epoch 20: loss improved from 5.03509 to 4.84150, saving model to nextword1.h5\n",
      "61/61 [==============================] - 4s 66ms/step - loss: 4.8415 - lr: 0.0010\n",
      "Epoch 21/150\n",
      "61/61 [==============================] - ETA: 0s - loss: 4.6181\n",
      "Epoch 21: loss improved from 4.84150 to 4.61810, saving model to nextword1.h5\n",
      "61/61 [==============================] - 4s 65ms/step - loss: 4.6181 - lr: 0.0010\n",
      "Epoch 22/150\n",
      "61/61 [==============================] - ETA: 0s - loss: 4.4015\n",
      "Epoch 22: loss improved from 4.61810 to 4.40151, saving model to nextword1.h5\n",
      "61/61 [==============================] - 4s 65ms/step - loss: 4.4015 - lr: 0.0010\n",
      "Epoch 23/150\n",
      "61/61 [==============================] - ETA: 0s - loss: 4.1957\n",
      "Epoch 23: loss improved from 4.40151 to 4.19570, saving model to nextword1.h5\n",
      "61/61 [==============================] - 4s 65ms/step - loss: 4.1957 - lr: 0.0010\n",
      "Epoch 24/150\n",
      "61/61 [==============================] - ETA: 0s - loss: 4.0451\n",
      "Epoch 24: loss improved from 4.19570 to 4.04510, saving model to nextword1.h5\n",
      "61/61 [==============================] - 4s 65ms/step - loss: 4.0451 - lr: 0.0010\n",
      "Epoch 25/150\n",
      "61/61 [==============================] - ETA: 0s - loss: 3.9008\n",
      "Epoch 25: loss improved from 4.04510 to 3.90083, saving model to nextword1.h5\n",
      "61/61 [==============================] - 4s 65ms/step - loss: 3.9008 - lr: 0.0010\n",
      "Epoch 26/150\n",
      "61/61 [==============================] - ETA: 0s - loss: 3.7213\n",
      "Epoch 26: loss improved from 3.90083 to 3.72134, saving model to nextword1.h5\n",
      "61/61 [==============================] - 4s 65ms/step - loss: 3.7213 - lr: 0.0010\n",
      "Epoch 27/150\n",
      "61/61 [==============================] - ETA: 0s - loss: 3.5501\n",
      "Epoch 27: loss improved from 3.72134 to 3.55011, saving model to nextword1.h5\n",
      "61/61 [==============================] - 4s 64ms/step - loss: 3.5501 - lr: 0.0010\n",
      "Epoch 28/150\n",
      "61/61 [==============================] - ETA: 0s - loss: 3.4196\n",
      "Epoch 28: loss improved from 3.55011 to 3.41960, saving model to nextword1.h5\n",
      "61/61 [==============================] - 4s 67ms/step - loss: 3.4196 - lr: 0.0010\n",
      "Epoch 29/150\n",
      "61/61 [==============================] - ETA: 0s - loss: 3.3295\n",
      "Epoch 29: loss improved from 3.41960 to 3.32954, saving model to nextword1.h5\n",
      "61/61 [==============================] - 4s 66ms/step - loss: 3.3295 - lr: 0.0010\n",
      "Epoch 30/150\n",
      "61/61 [==============================] - ETA: 0s - loss: 3.1943\n",
      "Epoch 30: loss improved from 3.32954 to 3.19426, saving model to nextword1.h5\n",
      "61/61 [==============================] - 4s 64ms/step - loss: 3.1943 - lr: 0.0010\n",
      "Epoch 31/150\n",
      "61/61 [==============================] - ETA: 0s - loss: 3.0988\n",
      "Epoch 31: loss improved from 3.19426 to 3.09879, saving model to nextword1.h5\n",
      "61/61 [==============================] - 4s 64ms/step - loss: 3.0988 - lr: 0.0010\n",
      "Epoch 32/150\n",
      "61/61 [==============================] - ETA: 0s - loss: 3.0011\n",
      "Epoch 32: loss improved from 3.09879 to 3.00108, saving model to nextword1.h5\n",
      "61/61 [==============================] - 4s 64ms/step - loss: 3.0011 - lr: 0.0010\n",
      "Epoch 33/150\n",
      "61/61 [==============================] - ETA: 0s - loss: 2.9145\n",
      "Epoch 33: loss improved from 3.00108 to 2.91448, saving model to nextword1.h5\n",
      "61/61 [==============================] - 4s 65ms/step - loss: 2.9145 - lr: 0.0010\n",
      "Epoch 34/150\n",
      "61/61 [==============================] - ETA: 0s - loss: 2.8596\n",
      "Epoch 34: loss improved from 2.91448 to 2.85959, saving model to nextword1.h5\n",
      "61/61 [==============================] - 4s 64ms/step - loss: 2.8596 - lr: 0.0010\n",
      "Epoch 35/150\n",
      "61/61 [==============================] - ETA: 0s - loss: 2.7712\n",
      "Epoch 35: loss improved from 2.85959 to 2.77116, saving model to nextword1.h5\n",
      "61/61 [==============================] - 4s 64ms/step - loss: 2.7712 - lr: 0.0010\n"
     ]
    },
    {
     "name": "stdout",
     "output_type": "stream",
     "text": [
      "Epoch 36/150\n",
      "61/61 [==============================] - ETA: 0s - loss: 2.6797\n",
      "Epoch 36: loss improved from 2.77116 to 2.67969, saving model to nextword1.h5\n",
      "61/61 [==============================] - 4s 63ms/step - loss: 2.6797 - lr: 0.0010\n",
      "Epoch 37/150\n",
      "61/61 [==============================] - ETA: 0s - loss: 2.6384\n",
      "Epoch 37: loss improved from 2.67969 to 2.63842, saving model to nextword1.h5\n",
      "61/61 [==============================] - 4s 64ms/step - loss: 2.6384 - lr: 0.0010\n",
      "Epoch 38/150\n",
      "61/61 [==============================] - ETA: 0s - loss: 2.6163\n",
      "Epoch 38: loss improved from 2.63842 to 2.61630, saving model to nextword1.h5\n",
      "61/61 [==============================] - 4s 65ms/step - loss: 2.6163 - lr: 0.0010\n",
      "Epoch 39/150\n",
      "61/61 [==============================] - ETA: 0s - loss: 2.5475\n",
      "Epoch 39: loss improved from 2.61630 to 2.54746, saving model to nextword1.h5\n",
      "61/61 [==============================] - 4s 64ms/step - loss: 2.5475 - lr: 0.0010\n",
      "Epoch 40/150\n",
      "61/61 [==============================] - ETA: 0s - loss: 2.4750\n",
      "Epoch 40: loss improved from 2.54746 to 2.47504, saving model to nextword1.h5\n",
      "61/61 [==============================] - 4s 65ms/step - loss: 2.4750 - lr: 0.0010\n",
      "Epoch 41/150\n",
      "61/61 [==============================] - ETA: 0s - loss: 2.4021\n",
      "Epoch 41: loss improved from 2.47504 to 2.40208, saving model to nextword1.h5\n",
      "61/61 [==============================] - 4s 65ms/step - loss: 2.4021 - lr: 0.0010\n",
      "Epoch 42/150\n",
      "60/61 [============================>.] - ETA: 0s - loss: 2.3562\n",
      "Epoch 42: loss improved from 2.40208 to 2.36008, saving model to nextword1.h5\n",
      "61/61 [==============================] - 4s 64ms/step - loss: 2.3601 - lr: 0.0010\n",
      "Epoch 43/150\n",
      "61/61 [==============================] - ETA: 0s - loss: 2.2946\n",
      "Epoch 43: loss improved from 2.36008 to 2.29465, saving model to nextword1.h5\n",
      "61/61 [==============================] - 4s 64ms/step - loss: 2.2946 - lr: 0.0010\n",
      "Epoch 44/150\n",
      "61/61 [==============================] - ETA: 0s - loss: 2.2583\n",
      "Epoch 44: loss improved from 2.29465 to 2.25834, saving model to nextword1.h5\n",
      "61/61 [==============================] - 4s 67ms/step - loss: 2.2583 - lr: 0.0010\n",
      "Epoch 45/150\n",
      "61/61 [==============================] - ETA: 0s - loss: 2.2201\n",
      "Epoch 45: loss improved from 2.25834 to 2.22013, saving model to nextword1.h5\n",
      "61/61 [==============================] - 4s 66ms/step - loss: 2.2201 - lr: 0.0010\n",
      "Epoch 46/150\n",
      "61/61 [==============================] - ETA: 0s - loss: 2.1826\n",
      "Epoch 46: loss improved from 2.22013 to 2.18264, saving model to nextword1.h5\n",
      "61/61 [==============================] - 4s 66ms/step - loss: 2.1826 - lr: 0.0010\n",
      "Epoch 47/150\n",
      "61/61 [==============================] - ETA: 0s - loss: 2.1389\n",
      "Epoch 47: loss improved from 2.18264 to 2.13891, saving model to nextword1.h5\n",
      "61/61 [==============================] - 4s 67ms/step - loss: 2.1389 - lr: 0.0010\n",
      "Epoch 48/150\n",
      "61/61 [==============================] - ETA: 0s - loss: 2.1114\n",
      "Epoch 48: loss improved from 2.13891 to 2.11145, saving model to nextword1.h5\n",
      "61/61 [==============================] - 4s 65ms/step - loss: 2.1114 - lr: 0.0010\n",
      "Epoch 49/150\n",
      "61/61 [==============================] - ETA: 0s - loss: 2.0728\n",
      "Epoch 49: loss improved from 2.11145 to 2.07282, saving model to nextword1.h5\n",
      "61/61 [==============================] - 4s 65ms/step - loss: 2.0728 - lr: 0.0010\n",
      "Epoch 50/150\n",
      "61/61 [==============================] - ETA: 0s - loss: 2.0565\n",
      "Epoch 50: loss improved from 2.07282 to 2.05647, saving model to nextword1.h5\n",
      "61/61 [==============================] - 5s 80ms/step - loss: 2.0565 - lr: 0.0010\n",
      "Epoch 51/150\n",
      "61/61 [==============================] - ETA: 0s - loss: 2.0128\n",
      "Epoch 51: loss improved from 2.05647 to 2.01281, saving model to nextword1.h5\n",
      "61/61 [==============================] - 4s 63ms/step - loss: 2.0128 - lr: 0.0010\n",
      "Epoch 52/150\n",
      "61/61 [==============================] - ETA: 0s - loss: 1.9976\n",
      "Epoch 52: loss improved from 2.01281 to 1.99756, saving model to nextword1.h5\n",
      "61/61 [==============================] - 4s 64ms/step - loss: 1.9976 - lr: 0.0010\n",
      "Epoch 53/150\n",
      "61/61 [==============================] - ETA: 0s - loss: 1.9286\n",
      "Epoch 53: loss improved from 1.99756 to 1.92857, saving model to nextword1.h5\n",
      "61/61 [==============================] - 4s 64ms/step - loss: 1.9286 - lr: 0.0010\n",
      "Epoch 54/150\n",
      "61/61 [==============================] - ETA: 0s - loss: 1.9065\n",
      "Epoch 54: loss improved from 1.92857 to 1.90651, saving model to nextword1.h5\n",
      "61/61 [==============================] - 4s 65ms/step - loss: 1.9065 - lr: 0.0010\n",
      "Epoch 55/150\n",
      "61/61 [==============================] - ETA: 0s - loss: 1.8912\n",
      "Epoch 55: loss improved from 1.90651 to 1.89117, saving model to nextword1.h5\n",
      "61/61 [==============================] - 4s 65ms/step - loss: 1.8912 - lr: 0.0010\n",
      "Epoch 56/150\n",
      "61/61 [==============================] - ETA: 0s - loss: 1.8630\n",
      "Epoch 56: loss improved from 1.89117 to 1.86300, saving model to nextword1.h5\n",
      "61/61 [==============================] - 4s 65ms/step - loss: 1.8630 - lr: 0.0010\n",
      "Epoch 57/150\n",
      "61/61 [==============================] - ETA: 0s - loss: 1.8470\n",
      "Epoch 57: loss improved from 1.86300 to 1.84695, saving model to nextword1.h5\n",
      "61/61 [==============================] - 4s 66ms/step - loss: 1.8470 - lr: 0.0010\n",
      "Epoch 58/150\n",
      "61/61 [==============================] - ETA: 0s - loss: 1.8269\n",
      "Epoch 58: loss improved from 1.84695 to 1.82686, saving model to nextword1.h5\n",
      "61/61 [==============================] - 4s 65ms/step - loss: 1.8269 - lr: 0.0010\n",
      "Epoch 59/150\n",
      "61/61 [==============================] - ETA: 0s - loss: 1.8262\n",
      "Epoch 59: loss improved from 1.82686 to 1.82615, saving model to nextword1.h5\n",
      "61/61 [==============================] - 4s 66ms/step - loss: 1.8262 - lr: 0.0010\n",
      "Epoch 60/150\n",
      "61/61 [==============================] - ETA: 0s - loss: 1.7780\n",
      "Epoch 60: loss improved from 1.82615 to 1.77800, saving model to nextword1.h5\n",
      "61/61 [==============================] - 4s 65ms/step - loss: 1.7780 - lr: 0.0010\n",
      "Epoch 61/150\n",
      "61/61 [==============================] - ETA: 0s - loss: 1.7574\n",
      "Epoch 61: loss improved from 1.77800 to 1.75740, saving model to nextword1.h5\n",
      "61/61 [==============================] - 4s 67ms/step - loss: 1.7574 - lr: 0.0010\n",
      "Epoch 62/150\n",
      "60/61 [============================>.] - ETA: 0s - loss: 1.7343\n",
      "Epoch 62: loss improved from 1.75740 to 1.73496, saving model to nextword1.h5\n",
      "61/61 [==============================] - 4s 67ms/step - loss: 1.7350 - lr: 0.0010\n",
      "Epoch 63/150\n",
      "60/61 [============================>.] - ETA: 0s - loss: 1.7189\n",
      "Epoch 63: loss improved from 1.73496 to 1.72333, saving model to nextword1.h5\n",
      "61/61 [==============================] - 4s 65ms/step - loss: 1.7233 - lr: 0.0010\n",
      "Epoch 64/150\n",
      "61/61 [==============================] - ETA: 0s - loss: 1.7017\n",
      "Epoch 64: loss improved from 1.72333 to 1.70171, saving model to nextword1.h5\n",
      "61/61 [==============================] - 4s 64ms/step - loss: 1.7017 - lr: 0.0010\n",
      "Epoch 65/150\n",
      "61/61 [==============================] - ETA: 0s - loss: 1.6878\n",
      "Epoch 65: loss improved from 1.70171 to 1.68783, saving model to nextword1.h5\n",
      "61/61 [==============================] - 4s 64ms/step - loss: 1.6878 - lr: 0.0010\n",
      "Epoch 66/150\n",
      "60/61 [============================>.] - ETA: 0s - loss: 1.6862\n",
      "Epoch 66: loss did not improve from 1.68783\n",
      "61/61 [==============================] - 4s 60ms/step - loss: 1.6881 - lr: 0.0010\n",
      "Epoch 67/150\n",
      "61/61 [==============================] - ETA: 0s - loss: 1.6659\n",
      "Epoch 67: loss improved from 1.68783 to 1.66587, saving model to nextword1.h5\n",
      "61/61 [==============================] - 4s 63ms/step - loss: 1.6659 - lr: 0.0010\n",
      "Epoch 68/150\n",
      "61/61 [==============================] - ETA: 0s - loss: 1.6518\n",
      "Epoch 68: loss improved from 1.66587 to 1.65179, saving model to nextword1.h5\n",
      "61/61 [==============================] - 4s 63ms/step - loss: 1.6518 - lr: 0.0010\n",
      "Epoch 69/150\n",
      "61/61 [==============================] - ETA: 0s - loss: 1.6137\n",
      "Epoch 69: loss improved from 1.65179 to 1.61370, saving model to nextword1.h5\n",
      "61/61 [==============================] - 4s 63ms/step - loss: 1.6137 - lr: 0.0010\n",
      "Epoch 70/150\n",
      "61/61 [==============================] - ETA: 0s - loss: 1.5975\n",
      "Epoch 70: loss improved from 1.61370 to 1.59752, saving model to nextword1.h5\n",
      "61/61 [==============================] - 4s 63ms/step - loss: 1.5975 - lr: 0.0010\n"
     ]
    },
    {
     "name": "stdout",
     "output_type": "stream",
     "text": [
      "Epoch 71/150\n",
      "61/61 [==============================] - ETA: 0s - loss: 1.5774\n",
      "Epoch 71: loss improved from 1.59752 to 1.57741, saving model to nextword1.h5\n",
      "61/61 [==============================] - 4s 64ms/step - loss: 1.5774 - lr: 0.0010\n",
      "Epoch 72/150\n",
      "61/61 [==============================] - ETA: 0s - loss: 1.5482\n",
      "Epoch 72: loss improved from 1.57741 to 1.54825, saving model to nextword1.h5\n",
      "61/61 [==============================] - 4s 64ms/step - loss: 1.5482 - lr: 0.0010\n",
      "Epoch 73/150\n",
      "61/61 [==============================] - ETA: 0s - loss: 1.5451\n",
      "Epoch 73: loss improved from 1.54825 to 1.54511, saving model to nextword1.h5\n",
      "61/61 [==============================] - 4s 64ms/step - loss: 1.5451 - lr: 0.0010\n",
      "Epoch 74/150\n",
      "60/61 [============================>.] - ETA: 0s - loss: 1.5086\n",
      "Epoch 74: loss improved from 1.54511 to 1.51366, saving model to nextword1.h5\n",
      "61/61 [==============================] - 4s 64ms/step - loss: 1.5137 - lr: 0.0010\n",
      "Epoch 75/150\n",
      "61/61 [==============================] - ETA: 0s - loss: 1.4926\n",
      "Epoch 75: loss improved from 1.51366 to 1.49258, saving model to nextword1.h5\n",
      "61/61 [==============================] - 4s 64ms/step - loss: 1.4926 - lr: 0.0010\n",
      "Epoch 76/150\n",
      "61/61 [==============================] - ETA: 0s - loss: 1.4777\n",
      "Epoch 76: loss improved from 1.49258 to 1.47768, saving model to nextword1.h5\n",
      "61/61 [==============================] - 4s 64ms/step - loss: 1.4777 - lr: 0.0010\n",
      "Epoch 77/150\n",
      "61/61 [==============================] - ETA: 0s - loss: 1.4832\n",
      "Epoch 77: loss did not improve from 1.47768\n",
      "61/61 [==============================] - 4s 59ms/step - loss: 1.4832 - lr: 0.0010\n",
      "Epoch 78/150\n",
      "61/61 [==============================] - ETA: 0s - loss: 1.4695\n",
      "Epoch 78: loss improved from 1.47768 to 1.46948, saving model to nextword1.h5\n",
      "61/61 [==============================] - 4s 66ms/step - loss: 1.4695 - lr: 0.0010\n",
      "Epoch 79/150\n",
      "61/61 [==============================] - ETA: 0s - loss: 1.4741\n",
      "Epoch 79: loss did not improve from 1.46948\n",
      "61/61 [==============================] - 4s 59ms/step - loss: 1.4741 - lr: 0.0010\n",
      "Epoch 80/150\n",
      "61/61 [==============================] - ETA: 0s - loss: 1.4682\n",
      "Epoch 80: loss improved from 1.46948 to 1.46820, saving model to nextword1.h5\n",
      "61/61 [==============================] - 4s 64ms/step - loss: 1.4682 - lr: 0.0010\n",
      "Epoch 81/150\n",
      "61/61 [==============================] - ETA: 0s - loss: 1.4412\n",
      "Epoch 81: loss improved from 1.46820 to 1.44123, saving model to nextword1.h5\n",
      "61/61 [==============================] - 4s 63ms/step - loss: 1.4412 - lr: 0.0010\n",
      "Epoch 82/150\n",
      "61/61 [==============================] - ETA: 0s - loss: 1.4416\n",
      "Epoch 82: loss did not improve from 1.44123\n",
      "61/61 [==============================] - 4s 59ms/step - loss: 1.4416 - lr: 0.0010\n",
      "Epoch 83/150\n",
      "61/61 [==============================] - ETA: 0s - loss: 1.4289\n",
      "Epoch 83: loss improved from 1.44123 to 1.42886, saving model to nextword1.h5\n",
      "61/61 [==============================] - 4s 64ms/step - loss: 1.4289 - lr: 0.0010\n",
      "Epoch 84/150\n",
      "61/61 [==============================] - ETA: 0s - loss: 1.4049\n",
      "Epoch 84: loss improved from 1.42886 to 1.40494, saving model to nextword1.h5\n",
      "61/61 [==============================] - 4s 64ms/step - loss: 1.4049 - lr: 0.0010\n",
      "Epoch 85/150\n",
      "61/61 [==============================] - ETA: 0s - loss: 1.3923\n",
      "Epoch 85: loss improved from 1.40494 to 1.39233, saving model to nextword1.h5\n",
      "61/61 [==============================] - 4s 63ms/step - loss: 1.3923 - lr: 0.0010\n",
      "Epoch 86/150\n",
      "61/61 [==============================] - ETA: 0s - loss: 1.3788\n",
      "Epoch 86: loss improved from 1.39233 to 1.37883, saving model to nextword1.h5\n",
      "61/61 [==============================] - 4s 65ms/step - loss: 1.3788 - lr: 0.0010\n",
      "Epoch 87/150\n",
      "61/61 [==============================] - ETA: 0s - loss: 1.3639\n",
      "Epoch 87: loss improved from 1.37883 to 1.36390, saving model to nextword1.h5\n",
      "61/61 [==============================] - 4s 64ms/step - loss: 1.3639 - lr: 0.0010\n",
      "Epoch 88/150\n",
      "61/61 [==============================] - ETA: 0s - loss: 1.3630\n",
      "Epoch 88: loss improved from 1.36390 to 1.36296, saving model to nextword1.h5\n",
      "61/61 [==============================] - 4s 64ms/step - loss: 1.3630 - lr: 0.0010\n",
      "Epoch 89/150\n",
      "61/61 [==============================] - ETA: 0s - loss: 1.3537\n",
      "Epoch 89: loss improved from 1.36296 to 1.35369, saving model to nextword1.h5\n",
      "61/61 [==============================] - 4s 63ms/step - loss: 1.3537 - lr: 0.0010\n",
      "Epoch 90/150\n",
      "60/61 [============================>.] - ETA: 0s - loss: 1.3313\n",
      "Epoch 90: loss improved from 1.35369 to 1.33567, saving model to nextword1.h5\n",
      "61/61 [==============================] - 4s 64ms/step - loss: 1.3357 - lr: 0.0010\n",
      "Epoch 91/150\n",
      "60/61 [============================>.] - ETA: 0s - loss: 1.3547\n",
      "Epoch 91: loss did not improve from 1.33567\n",
      "61/61 [==============================] - 4s 60ms/step - loss: 1.3571 - lr: 0.0010\n",
      "Epoch 92/150\n",
      "61/61 [==============================] - ETA: 0s - loss: 1.3535\n",
      "Epoch 92: loss did not improve from 1.33567\n",
      "61/61 [==============================] - 4s 58ms/step - loss: 1.3535 - lr: 0.0010\n",
      "Epoch 93/150\n",
      "61/61 [==============================] - ETA: 0s - loss: 1.3478\n",
      "Epoch 93: loss did not improve from 1.33567\n",
      "\n",
      "Epoch 93: ReduceLROnPlateau reducing learning rate to 0.00020000000949949026.\n",
      "61/61 [==============================] - 4s 59ms/step - loss: 1.3478 - lr: 0.0010\n",
      "Epoch 94/150\n",
      "61/61 [==============================] - ETA: 0s - loss: 1.0085\n",
      "Epoch 94: loss improved from 1.33567 to 1.00846, saving model to nextword1.h5\n",
      "61/61 [==============================] - 4s 64ms/step - loss: 1.0085 - lr: 2.0000e-04\n",
      "Epoch 95/150\n",
      "61/61 [==============================] - ETA: 0s - loss: 0.8787\n",
      "Epoch 95: loss improved from 1.00846 to 0.87867, saving model to nextword1.h5\n",
      "61/61 [==============================] - 4s 65ms/step - loss: 0.8787 - lr: 2.0000e-04\n",
      "Epoch 96/150\n",
      "61/61 [==============================] - ETA: 0s - loss: 0.8324\n",
      "Epoch 96: loss improved from 0.87867 to 0.83235, saving model to nextword1.h5\n",
      "61/61 [==============================] - 4s 65ms/step - loss: 0.8324 - lr: 2.0000e-04\n",
      "Epoch 97/150\n",
      "61/61 [==============================] - ETA: 0s - loss: 0.8120\n",
      "Epoch 97: loss improved from 0.83235 to 0.81197, saving model to nextword1.h5\n",
      "61/61 [==============================] - 4s 66ms/step - loss: 0.8120 - lr: 2.0000e-04\n",
      "Epoch 98/150\n",
      "61/61 [==============================] - ETA: 0s - loss: 0.7970\n",
      "Epoch 98: loss improved from 0.81197 to 0.79702, saving model to nextword1.h5\n",
      "61/61 [==============================] - 4s 64ms/step - loss: 0.7970 - lr: 2.0000e-04\n",
      "Epoch 99/150\n",
      "61/61 [==============================] - ETA: 0s - loss: 0.7881\n",
      "Epoch 99: loss improved from 0.79702 to 0.78810, saving model to nextword1.h5\n",
      "61/61 [==============================] - 4s 64ms/step - loss: 0.7881 - lr: 2.0000e-04\n",
      "Epoch 100/150\n",
      "61/61 [==============================] - ETA: 0s - loss: 0.7809\n",
      "Epoch 100: loss improved from 0.78810 to 0.78093, saving model to nextword1.h5\n",
      "61/61 [==============================] - 4s 63ms/step - loss: 0.7809 - lr: 2.0000e-04\n",
      "Epoch 101/150\n",
      "61/61 [==============================] - ETA: 0s - loss: 0.7767\n",
      "Epoch 101: loss improved from 0.78093 to 0.77671, saving model to nextword1.h5\n",
      "61/61 [==============================] - 4s 65ms/step - loss: 0.7767 - lr: 2.0000e-04\n",
      "Epoch 102/150\n",
      "61/61 [==============================] - ETA: 0s - loss: 0.7712\n",
      "Epoch 102: loss improved from 0.77671 to 0.77115, saving model to nextword1.h5\n",
      "61/61 [==============================] - 4s 65ms/step - loss: 0.7712 - lr: 2.0000e-04\n",
      "Epoch 103/150\n",
      "61/61 [==============================] - ETA: 0s - loss: 0.7683\n",
      "Epoch 103: loss improved from 0.77115 to 0.76832, saving model to nextword1.h5\n",
      "61/61 [==============================] - 4s 64ms/step - loss: 0.7683 - lr: 2.0000e-04\n",
      "Epoch 104/150\n",
      "61/61 [==============================] - ETA: 0s - loss: 0.7646\n",
      "Epoch 104: loss improved from 0.76832 to 0.76459, saving model to nextword1.h5\n",
      "61/61 [==============================] - 4s 64ms/step - loss: 0.7646 - lr: 2.0000e-04\n",
      "Epoch 105/150\n",
      "61/61 [==============================] - ETA: 0s - loss: 0.7635\n",
      "Epoch 105: loss improved from 0.76459 to 0.76346, saving model to nextword1.h5\n",
      "61/61 [==============================] - 4s 64ms/step - loss: 0.7635 - lr: 2.0000e-04\n"
     ]
    },
    {
     "name": "stdout",
     "output_type": "stream",
     "text": [
      "Epoch 106/150\n",
      "60/61 [============================>.] - ETA: 0s - loss: 0.7567\n",
      "Epoch 106: loss improved from 0.76346 to 0.75935, saving model to nextword1.h5\n",
      "61/61 [==============================] - 4s 65ms/step - loss: 0.7593 - lr: 2.0000e-04\n",
      "Epoch 107/150\n",
      "61/61 [==============================] - ETA: 0s - loss: 0.7582\n",
      "Epoch 107: loss improved from 0.75935 to 0.75824, saving model to nextword1.h5\n",
      "61/61 [==============================] - 4s 65ms/step - loss: 0.7582 - lr: 2.0000e-04\n",
      "Epoch 108/150\n",
      "60/61 [============================>.] - ETA: 0s - loss: 0.7546\n",
      "Epoch 108: loss improved from 0.75824 to 0.75655, saving model to nextword1.h5\n",
      "61/61 [==============================] - 4s 64ms/step - loss: 0.7565 - lr: 2.0000e-04\n",
      "Epoch 109/150\n",
      "61/61 [==============================] - ETA: 0s - loss: 0.7555\n",
      "Epoch 109: loss improved from 0.75655 to 0.75550, saving model to nextword1.h5\n",
      "61/61 [==============================] - 4s 65ms/step - loss: 0.7555 - lr: 2.0000e-04\n",
      "Epoch 110/150\n",
      "61/61 [==============================] - ETA: 0s - loss: 0.7533\n",
      "Epoch 110: loss improved from 0.75550 to 0.75325, saving model to nextword1.h5\n",
      "61/61 [==============================] - 4s 65ms/step - loss: 0.7533 - lr: 2.0000e-04\n",
      "Epoch 111/150\n",
      "60/61 [============================>.] - ETA: 0s - loss: 0.7492\n",
      "Epoch 111: loss improved from 0.75325 to 0.75111, saving model to nextword1.h5\n",
      "61/61 [==============================] - 4s 67ms/step - loss: 0.7511 - lr: 2.0000e-04\n",
      "Epoch 112/150\n",
      "61/61 [==============================] - ETA: 0s - loss: 0.7512\n",
      "Epoch 112: loss did not improve from 0.75111\n",
      "61/61 [==============================] - 4s 59ms/step - loss: 0.7512 - lr: 2.0000e-04\n",
      "Epoch 113/150\n",
      "61/61 [==============================] - ETA: 0s - loss: 0.7485\n",
      "Epoch 113: loss improved from 0.75111 to 0.74854, saving model to nextword1.h5\n",
      "61/61 [==============================] - 4s 64ms/step - loss: 0.7485 - lr: 2.0000e-04\n",
      "Epoch 114/150\n",
      "61/61 [==============================] - ETA: 0s - loss: 0.7465\n",
      "Epoch 114: loss improved from 0.74854 to 0.74653, saving model to nextword1.h5\n",
      "61/61 [==============================] - 4s 64ms/step - loss: 0.7465 - lr: 2.0000e-04\n",
      "Epoch 115/150\n",
      "61/61 [==============================] - ETA: 0s - loss: 0.7485\n",
      "Epoch 115: loss did not improve from 0.74653\n",
      "61/61 [==============================] - 4s 59ms/step - loss: 0.7485 - lr: 2.0000e-04\n",
      "Epoch 116/150\n",
      "60/61 [============================>.] - ETA: 0s - loss: 0.7423\n",
      "Epoch 116: loss improved from 0.74653 to 0.74402, saving model to nextword1.h5\n",
      "61/61 [==============================] - 4s 65ms/step - loss: 0.7440 - lr: 2.0000e-04\n",
      "Epoch 117/150\n",
      "61/61 [==============================] - ETA: 0s - loss: 0.7432\n",
      "Epoch 117: loss improved from 0.74402 to 0.74325, saving model to nextword1.h5\n",
      "61/61 [==============================] - 4s 65ms/step - loss: 0.7432 - lr: 2.0000e-04\n",
      "Epoch 118/150\n",
      "60/61 [============================>.] - ETA: 0s - loss: 0.7429\n",
      "Epoch 118: loss did not improve from 0.74325\n",
      "61/61 [==============================] - 4s 59ms/step - loss: 0.7446 - lr: 2.0000e-04\n",
      "Epoch 119/150\n",
      "61/61 [==============================] - ETA: 0s - loss: 0.7423\n",
      "Epoch 119: loss improved from 0.74325 to 0.74230, saving model to nextword1.h5\n",
      "61/61 [==============================] - 4s 68ms/step - loss: 0.7423 - lr: 2.0000e-04\n",
      "Epoch 120/150\n",
      "61/61 [==============================] - ETA: 0s - loss: 0.7407\n",
      "Epoch 120: loss improved from 0.74230 to 0.74073, saving model to nextword1.h5\n",
      "61/61 [==============================] - 4s 66ms/step - loss: 0.7407 - lr: 2.0000e-04\n",
      "Epoch 121/150\n",
      "61/61 [==============================] - ETA: 0s - loss: 0.7385\n",
      "Epoch 121: loss improved from 0.74073 to 0.73852, saving model to nextword1.h5\n",
      "61/61 [==============================] - 4s 64ms/step - loss: 0.7385 - lr: 2.0000e-04\n",
      "Epoch 122/150\n",
      "61/61 [==============================] - ETA: 0s - loss: 0.7383\n",
      "Epoch 122: loss improved from 0.73852 to 0.73830, saving model to nextword1.h5\n",
      "61/61 [==============================] - 4s 63ms/step - loss: 0.7383 - lr: 2.0000e-04\n",
      "Epoch 123/150\n",
      "61/61 [==============================] - ETA: 0s - loss: 0.7389\n",
      "Epoch 123: loss did not improve from 0.73830\n",
      "61/61 [==============================] - 4s 59ms/step - loss: 0.7389 - lr: 2.0000e-04\n",
      "Epoch 124/150\n",
      "60/61 [============================>.] - ETA: 0s - loss: 0.7342\n",
      "Epoch 124: loss improved from 0.73830 to 0.73716, saving model to nextword1.h5\n",
      "61/61 [==============================] - 4s 63ms/step - loss: 0.7372 - lr: 2.0000e-04\n",
      "Epoch 125/150\n",
      "61/61 [==============================] - ETA: 0s - loss: 0.7368\n",
      "Epoch 125: loss improved from 0.73716 to 0.73684, saving model to nextword1.h5\n",
      "61/61 [==============================] - 4s 66ms/step - loss: 0.7368 - lr: 2.0000e-04\n",
      "Epoch 126/150\n",
      "61/61 [==============================] - ETA: 0s - loss: 0.7353\n",
      "Epoch 126: loss improved from 0.73684 to 0.73530, saving model to nextword1.h5\n",
      "61/61 [==============================] - 4s 65ms/step - loss: 0.7353 - lr: 2.0000e-04\n",
      "Epoch 127/150\n",
      "61/61 [==============================] - ETA: 0s - loss: 0.7330\n",
      "Epoch 127: loss improved from 0.73530 to 0.73295, saving model to nextword1.h5\n",
      "61/61 [==============================] - 4s 64ms/step - loss: 0.7330 - lr: 2.0000e-04\n",
      "Epoch 128/150\n",
      "61/61 [==============================] - ETA: 0s - loss: 0.7311\n",
      "Epoch 128: loss improved from 0.73295 to 0.73115, saving model to nextword1.h5\n",
      "61/61 [==============================] - 4s 63ms/step - loss: 0.7311 - lr: 2.0000e-04\n",
      "Epoch 129/150\n",
      "61/61 [==============================] - ETA: 0s - loss: 0.7309\n",
      "Epoch 129: loss improved from 0.73115 to 0.73092, saving model to nextword1.h5\n",
      "61/61 [==============================] - 4s 65ms/step - loss: 0.7309 - lr: 2.0000e-04\n",
      "Epoch 130/150\n",
      "61/61 [==============================] - ETA: 0s - loss: 0.7284\n",
      "Epoch 130: loss improved from 0.73092 to 0.72842, saving model to nextword1.h5\n",
      "61/61 [==============================] - 4s 64ms/step - loss: 0.7284 - lr: 2.0000e-04\n",
      "Epoch 131/150\n",
      "61/61 [==============================] - ETA: 0s - loss: 0.7302\n",
      "Epoch 131: loss did not improve from 0.72842\n",
      "61/61 [==============================] - 4s 59ms/step - loss: 0.7302 - lr: 2.0000e-04\n",
      "Epoch 132/150\n",
      "61/61 [==============================] - ETA: 0s - loss: 0.7300\n",
      "Epoch 132: loss did not improve from 0.72842\n",
      "61/61 [==============================] - 4s 59ms/step - loss: 0.7300 - lr: 2.0000e-04\n",
      "Epoch 133/150\n",
      "61/61 [==============================] - ETA: 0s - loss: 0.7287\n",
      "Epoch 133: loss did not improve from 0.72842\n",
      "\n",
      "Epoch 133: ReduceLROnPlateau reducing learning rate to 0.0001.\n",
      "61/61 [==============================] - 4s 59ms/step - loss: 0.7287 - lr: 2.0000e-04\n",
      "Epoch 134/150\n",
      "61/61 [==============================] - ETA: 0s - loss: 0.6733\n",
      "Epoch 134: loss improved from 0.72842 to 0.67334, saving model to nextword1.h5\n",
      "61/61 [==============================] - 4s 64ms/step - loss: 0.6733 - lr: 1.0000e-04\n",
      "Epoch 135/150\n",
      "61/61 [==============================] - ETA: 0s - loss: 0.6699\n",
      "Epoch 135: loss improved from 0.67334 to 0.66991, saving model to nextword1.h5\n",
      "61/61 [==============================] - 4s 64ms/step - loss: 0.6699 - lr: 1.0000e-04\n",
      "Epoch 136/150\n",
      "61/61 [==============================] - ETA: 0s - loss: 0.6691\n",
      "Epoch 136: loss improved from 0.66991 to 0.66914, saving model to nextword1.h5\n",
      "61/61 [==============================] - 4s 64ms/step - loss: 0.6691 - lr: 1.0000e-04\n",
      "Epoch 137/150\n",
      "61/61 [==============================] - ETA: 0s - loss: 0.6672\n",
      "Epoch 137: loss improved from 0.66914 to 0.66716, saving model to nextword1.h5\n",
      "61/61 [==============================] - 4s 63ms/step - loss: 0.6672 - lr: 1.0000e-04\n",
      "Epoch 138/150\n",
      "60/61 [============================>.] - ETA: 0s - loss: 0.6676\n",
      "Epoch 138: loss improved from 0.66716 to 0.66656, saving model to nextword1.h5\n",
      "61/61 [==============================] - 4s 63ms/step - loss: 0.6666 - lr: 1.0000e-04\n",
      "Epoch 139/150\n",
      "61/61 [==============================] - ETA: 0s - loss: 0.6674\n",
      "Epoch 139: loss did not improve from 0.66656\n",
      "61/61 [==============================] - 4s 59ms/step - loss: 0.6674 - lr: 1.0000e-04\n",
      "Epoch 140/150\n",
      "61/61 [==============================] - ETA: 0s - loss: 0.6653\n",
      "Epoch 140: loss improved from 0.66656 to 0.66532, saving model to nextword1.h5\n"
     ]
    },
    {
     "name": "stdout",
     "output_type": "stream",
     "text": [
      "61/61 [==============================] - 4s 64ms/step - loss: 0.6653 - lr: 1.0000e-04\n",
      "Epoch 141/150\n",
      "61/61 [==============================] - ETA: 0s - loss: 0.6661\n",
      "Epoch 141: loss did not improve from 0.66532\n",
      "61/61 [==============================] - 4s 59ms/step - loss: 0.6661 - lr: 1.0000e-04\n",
      "Epoch 142/150\n",
      "60/61 [============================>.] - ETA: 0s - loss: 0.6663\n",
      "Epoch 142: loss did not improve from 0.66532\n",
      "61/61 [==============================] - 4s 58ms/step - loss: 0.6660 - lr: 1.0000e-04\n",
      "Epoch 143/150\n",
      "61/61 [==============================] - ETA: 0s - loss: 0.6670\n",
      "Epoch 143: loss did not improve from 0.66532\n",
      "61/61 [==============================] - 4s 58ms/step - loss: 0.6670 - lr: 1.0000e-04\n",
      "Epoch 144/150\n",
      "61/61 [==============================] - ETA: 0s - loss: 0.6645\n",
      "Epoch 144: loss improved from 0.66532 to 0.66455, saving model to nextword1.h5\n",
      "61/61 [==============================] - 4s 63ms/step - loss: 0.6645 - lr: 1.0000e-04\n",
      "Epoch 145/150\n",
      "61/61 [==============================] - ETA: 0s - loss: 0.6641\n",
      "Epoch 145: loss improved from 0.66455 to 0.66408, saving model to nextword1.h5\n",
      "61/61 [==============================] - 4s 64ms/step - loss: 0.6641 - lr: 1.0000e-04\n",
      "Epoch 146/150\n",
      "61/61 [==============================] - ETA: 0s - loss: 0.6654\n",
      "Epoch 146: loss did not improve from 0.66408\n",
      "61/61 [==============================] - 4s 59ms/step - loss: 0.6654 - lr: 1.0000e-04\n",
      "Epoch 147/150\n",
      "61/61 [==============================] - ETA: 0s - loss: 0.6638\n",
      "Epoch 147: loss improved from 0.66408 to 0.66383, saving model to nextword1.h5\n",
      "61/61 [==============================] - 4s 64ms/step - loss: 0.6638 - lr: 1.0000e-04\n",
      "Epoch 148/150\n",
      "61/61 [==============================] - ETA: 0s - loss: 0.6646\n",
      "Epoch 148: loss did not improve from 0.66383\n",
      "61/61 [==============================] - 4s 59ms/step - loss: 0.6646 - lr: 1.0000e-04\n",
      "Epoch 149/150\n",
      "61/61 [==============================] - ETA: 0s - loss: 0.6630\n",
      "Epoch 149: loss improved from 0.66383 to 0.66303, saving model to nextword1.h5\n",
      "61/61 [==============================] - 4s 64ms/step - loss: 0.6630 - lr: 1.0000e-04\n",
      "Epoch 150/150\n",
      "61/61 [==============================] - ETA: 0s - loss: 0.6626\n",
      "Epoch 150: loss improved from 0.66303 to 0.66265, saving model to nextword1.h5\n",
      "61/61 [==============================] - 4s 64ms/step - loss: 0.6626 - lr: 1.0000e-04\n"
     ]
    },
    {
     "data": {
      "text/plain": [
       "<keras.callbacks.History at 0x215c2ee0760>"
      ]
     },
     "execution_count": 17,
     "metadata": {},
     "output_type": "execute_result"
    }
   ],
   "source": [
    "model.fit(X, y, epochs=150, batch_size=64, callbacks=[checkpoint, reduce, tensorboard_Visualization])"
   ]
  },
  {
   "cell_type": "markdown",
   "metadata": {},
   "source": []
  },
  {
   "cell_type": "code",
   "execution_count": null,
   "metadata": {},
   "outputs": [],
   "source": []
  },
  {
   "cell_type": "markdown",
   "metadata": {},
   "source": [
    "## Observation:\n",
    "### We are able to develop a decent next word prediction model and are able to get a declining loss and an overall decent performance."
   ]
  }
 ],
 "metadata": {
  "kernelspec": {
   "display_name": "Python 3 (ipykernel)",
   "language": "python",
   "name": "python3"
  },
  "language_info": {
   "codemirror_mode": {
    "name": "ipython",
    "version": 3
   },
   "file_extension": ".py",
   "mimetype": "text/x-python",
   "name": "python",
   "nbconvert_exporter": "python",
   "pygments_lexer": "ipython3",
   "version": "3.9.12"
  }
 },
 "nbformat": 4,
 "nbformat_minor": 2
}
